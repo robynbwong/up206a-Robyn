{
 "cells": [
  {
   "cell_type": "code",
   "execution_count": 1,
   "metadata": {},
   "outputs": [],
   "source": [
    "import pandas as pd"
   ]
  },
  {
   "cell_type": "code",
   "execution_count": 2,
   "metadata": {},
   "outputs": [],
   "source": [
    "ur = pd.read_csv('../data/urb.rural.counties.csv')"
   ]
  },
  {
   "cell_type": "code",
   "execution_count": 3,
   "metadata": {},
   "outputs": [
    {
     "data": {
      "text/html": [
       "<div>\n",
       "<style scoped>\n",
       "    .dataframe tbody tr th:only-of-type {\n",
       "        vertical-align: middle;\n",
       "    }\n",
       "\n",
       "    .dataframe tbody tr th {\n",
       "        vertical-align: top;\n",
       "    }\n",
       "\n",
       "    .dataframe thead th {\n",
       "        text-align: right;\n",
       "    }\n",
       "</style>\n",
       "<table border=\"1\" class=\"dataframe\">\n",
       "  <thead>\n",
       "    <tr style=\"text-align: right;\">\n",
       "      <th></th>\n",
       "      <th>Geo_NAME</th>\n",
       "      <th>Geo_QName</th>\n",
       "      <th>Geo_AREALAND</th>\n",
       "      <th>Geo_AREAWATR</th>\n",
       "      <th>Geo_SUMLEV</th>\n",
       "      <th>Geo_GEOCOMP</th>\n",
       "      <th>Geo_REGION</th>\n",
       "      <th>Geo_DIVISION</th>\n",
       "      <th>Geo_FIPS</th>\n",
       "      <th>Geo_STATE</th>\n",
       "      <th>...</th>\n",
       "      <th>SF1_P0020002</th>\n",
       "      <th>SF1_P0020003</th>\n",
       "      <th>SF1_P0020004</th>\n",
       "      <th>SF1_P0020005</th>\n",
       "      <th>SF1_P0020006</th>\n",
       "      <th>PCT_SF1_P0020002</th>\n",
       "      <th>PCT_SF1_P0020003</th>\n",
       "      <th>PCT_SF1_P0020004</th>\n",
       "      <th>PCT_SF1_P0020005</th>\n",
       "      <th>PCT_SF1_P0020006</th>\n",
       "    </tr>\n",
       "  </thead>\n",
       "  <tbody>\n",
       "    <tr>\n",
       "      <th>0</th>\n",
       "      <td>Alameda County</td>\n",
       "      <td>Alameda County, California</td>\n",
       "      <td>1914046110</td>\n",
       "      <td>213184643</td>\n",
       "      <td>50</td>\n",
       "      <td>0</td>\n",
       "      <td>4</td>\n",
       "      <td>9</td>\n",
       "      <td>6001</td>\n",
       "      <td>6</td>\n",
       "      <td>...</td>\n",
       "      <td>1504402</td>\n",
       "      <td>1504402</td>\n",
       "      <td>0</td>\n",
       "      <td>5869</td>\n",
       "      <td>0</td>\n",
       "      <td>99.61</td>\n",
       "      <td>99.61</td>\n",
       "      <td>0.00</td>\n",
       "      <td>0.39</td>\n",
       "      <td>0</td>\n",
       "    </tr>\n",
       "    <tr>\n",
       "      <th>1</th>\n",
       "      <td>Alpine County</td>\n",
       "      <td>Alpine County, California</td>\n",
       "      <td>1912271907</td>\n",
       "      <td>12557251</td>\n",
       "      <td>50</td>\n",
       "      <td>0</td>\n",
       "      <td>4</td>\n",
       "      <td>9</td>\n",
       "      <td>6003</td>\n",
       "      <td>6</td>\n",
       "      <td>...</td>\n",
       "      <td>0</td>\n",
       "      <td>0</td>\n",
       "      <td>0</td>\n",
       "      <td>1175</td>\n",
       "      <td>0</td>\n",
       "      <td>0.00</td>\n",
       "      <td>0.00</td>\n",
       "      <td>0.00</td>\n",
       "      <td>100.00</td>\n",
       "      <td>0</td>\n",
       "    </tr>\n",
       "    <tr>\n",
       "      <th>2</th>\n",
       "      <td>Amador County</td>\n",
       "      <td>Amador County, California</td>\n",
       "      <td>1539962991</td>\n",
       "      <td>29456575</td>\n",
       "      <td>50</td>\n",
       "      <td>0</td>\n",
       "      <td>4</td>\n",
       "      <td>9</td>\n",
       "      <td>6005</td>\n",
       "      <td>6</td>\n",
       "      <td>...</td>\n",
       "      <td>15075</td>\n",
       "      <td>0</td>\n",
       "      <td>15075</td>\n",
       "      <td>23016</td>\n",
       "      <td>0</td>\n",
       "      <td>39.58</td>\n",
       "      <td>0.00</td>\n",
       "      <td>39.58</td>\n",
       "      <td>60.42</td>\n",
       "      <td>0</td>\n",
       "    </tr>\n",
       "    <tr>\n",
       "      <th>3</th>\n",
       "      <td>Butte County</td>\n",
       "      <td>Butte County, California</td>\n",
       "      <td>4238423238</td>\n",
       "      <td>105325758</td>\n",
       "      <td>50</td>\n",
       "      <td>0</td>\n",
       "      <td>4</td>\n",
       "      <td>9</td>\n",
       "      <td>6007</td>\n",
       "      <td>6</td>\n",
       "      <td>...</td>\n",
       "      <td>178416</td>\n",
       "      <td>98176</td>\n",
       "      <td>80240</td>\n",
       "      <td>41584</td>\n",
       "      <td>0</td>\n",
       "      <td>81.10</td>\n",
       "      <td>44.63</td>\n",
       "      <td>36.47</td>\n",
       "      <td>18.90</td>\n",
       "      <td>0</td>\n",
       "    </tr>\n",
       "    <tr>\n",
       "      <th>4</th>\n",
       "      <td>Calaveras County</td>\n",
       "      <td>Calaveras County, California</td>\n",
       "      <td>2641819725</td>\n",
       "      <td>43810420</td>\n",
       "      <td>50</td>\n",
       "      <td>0</td>\n",
       "      <td>4</td>\n",
       "      <td>9</td>\n",
       "      <td>6009</td>\n",
       "      <td>6</td>\n",
       "      <td>...</td>\n",
       "      <td>11208</td>\n",
       "      <td>0</td>\n",
       "      <td>11208</td>\n",
       "      <td>34370</td>\n",
       "      <td>0</td>\n",
       "      <td>24.59</td>\n",
       "      <td>0.00</td>\n",
       "      <td>24.59</td>\n",
       "      <td>75.41</td>\n",
       "      <td>0</td>\n",
       "    </tr>\n",
       "  </tbody>\n",
       "</table>\n",
       "<p>5 rows × 22 columns</p>\n",
       "</div>"
      ],
      "text/plain": [
       "           Geo_NAME                     Geo_QName  Geo_AREALAND  Geo_AREAWATR  \\\n",
       "0    Alameda County    Alameda County, California    1914046110     213184643   \n",
       "1     Alpine County     Alpine County, California    1912271907      12557251   \n",
       "2     Amador County     Amador County, California    1539962991      29456575   \n",
       "3      Butte County      Butte County, California    4238423238     105325758   \n",
       "4  Calaveras County  Calaveras County, California    2641819725      43810420   \n",
       "\n",
       "   Geo_SUMLEV  Geo_GEOCOMP  Geo_REGION  Geo_DIVISION  Geo_FIPS  Geo_STATE  \\\n",
       "0          50            0           4             9      6001          6   \n",
       "1          50            0           4             9      6003          6   \n",
       "2          50            0           4             9      6005          6   \n",
       "3          50            0           4             9      6007          6   \n",
       "4          50            0           4             9      6009          6   \n",
       "\n",
       "   ...  SF1_P0020002  SF1_P0020003  SF1_P0020004  SF1_P0020005  SF1_P0020006  \\\n",
       "0  ...       1504402       1504402             0          5869             0   \n",
       "1  ...             0             0             0          1175             0   \n",
       "2  ...         15075             0         15075         23016             0   \n",
       "3  ...        178416         98176         80240         41584             0   \n",
       "4  ...         11208             0         11208         34370             0   \n",
       "\n",
       "   PCT_SF1_P0020002  PCT_SF1_P0020003  PCT_SF1_P0020004  PCT_SF1_P0020005  \\\n",
       "0             99.61             99.61              0.00              0.39   \n",
       "1              0.00              0.00              0.00            100.00   \n",
       "2             39.58              0.00             39.58             60.42   \n",
       "3             81.10             44.63             36.47             18.90   \n",
       "4             24.59              0.00             24.59             75.41   \n",
       "\n",
       "   PCT_SF1_P0020006  \n",
       "0                 0  \n",
       "1                 0  \n",
       "2                 0  \n",
       "3                 0  \n",
       "4                 0  \n",
       "\n",
       "[5 rows x 22 columns]"
      ]
     },
     "execution_count": 3,
     "metadata": {},
     "output_type": "execute_result"
    }
   ],
   "source": [
    "# look at data\n",
    "\n",
    "ur.head()"
   ]
  },
  {
   "cell_type": "code",
   "execution_count": 4,
   "metadata": {},
   "outputs": [],
   "source": [
    "# change column names\n",
    "\n",
    "ur = pd.read_csv(\n",
    "    '../data/urb.rural.counties.csv',\n",
    "    dtype=\n",
    "    {\n",
    "        'Geo_FIPS':str,\n",
    "        'Geo_STATE':str,\n",
    "        'Geo_COUNTY': str\n",
    "    }\n",
    ")"
   ]
  },
  {
   "cell_type": "code",
   "execution_count": 5,
   "metadata": {},
   "outputs": [
    {
     "data": {
      "text/html": [
       "<div>\n",
       "<style scoped>\n",
       "    .dataframe tbody tr th:only-of-type {\n",
       "        vertical-align: middle;\n",
       "    }\n",
       "\n",
       "    .dataframe tbody tr th {\n",
       "        vertical-align: top;\n",
       "    }\n",
       "\n",
       "    .dataframe thead th {\n",
       "        text-align: right;\n",
       "    }\n",
       "</style>\n",
       "<table border=\"1\" class=\"dataframe\">\n",
       "  <thead>\n",
       "    <tr style=\"text-align: right;\">\n",
       "      <th></th>\n",
       "      <th>Geo_NAME</th>\n",
       "      <th>Geo_QName</th>\n",
       "      <th>Geo_AREALAND</th>\n",
       "      <th>Geo_AREAWATR</th>\n",
       "      <th>Geo_SUMLEV</th>\n",
       "      <th>Geo_GEOCOMP</th>\n",
       "      <th>Geo_REGION</th>\n",
       "      <th>Geo_DIVISION</th>\n",
       "      <th>Geo_FIPS</th>\n",
       "      <th>Geo_STATE</th>\n",
       "      <th>...</th>\n",
       "      <th>SF1_P0020002</th>\n",
       "      <th>SF1_P0020003</th>\n",
       "      <th>SF1_P0020004</th>\n",
       "      <th>SF1_P0020005</th>\n",
       "      <th>SF1_P0020006</th>\n",
       "      <th>PCT_SF1_P0020002</th>\n",
       "      <th>PCT_SF1_P0020003</th>\n",
       "      <th>PCT_SF1_P0020004</th>\n",
       "      <th>PCT_SF1_P0020005</th>\n",
       "      <th>PCT_SF1_P0020006</th>\n",
       "    </tr>\n",
       "  </thead>\n",
       "  <tbody>\n",
       "    <tr>\n",
       "      <th>41</th>\n",
       "      <td>Santa Barbara County</td>\n",
       "      <td>Santa Barbara County, California</td>\n",
       "      <td>7083838022</td>\n",
       "      <td>2729829365</td>\n",
       "      <td>50</td>\n",
       "      <td>0</td>\n",
       "      <td>4</td>\n",
       "      <td>9</td>\n",
       "      <td>06083</td>\n",
       "      <td>06</td>\n",
       "      <td>...</td>\n",
       "      <td>402626</td>\n",
       "      <td>377637</td>\n",
       "      <td>24989</td>\n",
       "      <td>21269</td>\n",
       "      <td>0</td>\n",
       "      <td>94.98</td>\n",
       "      <td>89.09</td>\n",
       "      <td>5.90</td>\n",
       "      <td>5.02</td>\n",
       "      <td>0</td>\n",
       "    </tr>\n",
       "    <tr>\n",
       "      <th>28</th>\n",
       "      <td>Nevada County</td>\n",
       "      <td>Nevada County, California</td>\n",
       "      <td>2480616988</td>\n",
       "      <td>41514942</td>\n",
       "      <td>50</td>\n",
       "      <td>0</td>\n",
       "      <td>4</td>\n",
       "      <td>9</td>\n",
       "      <td>06057</td>\n",
       "      <td>06</td>\n",
       "      <td>...</td>\n",
       "      <td>57150</td>\n",
       "      <td>0</td>\n",
       "      <td>57150</td>\n",
       "      <td>41614</td>\n",
       "      <td>0</td>\n",
       "      <td>57.87</td>\n",
       "      <td>0.00</td>\n",
       "      <td>57.87</td>\n",
       "      <td>42.13</td>\n",
       "      <td>0</td>\n",
       "    </tr>\n",
       "    <tr>\n",
       "      <th>6</th>\n",
       "      <td>Contra Costa County</td>\n",
       "      <td>Contra Costa County, California</td>\n",
       "      <td>1854268836</td>\n",
       "      <td>227485306</td>\n",
       "      <td>50</td>\n",
       "      <td>0</td>\n",
       "      <td>4</td>\n",
       "      <td>9</td>\n",
       "      <td>06013</td>\n",
       "      <td>06</td>\n",
       "      <td>...</td>\n",
       "      <td>1040709</td>\n",
       "      <td>1026665</td>\n",
       "      <td>14044</td>\n",
       "      <td>8316</td>\n",
       "      <td>0</td>\n",
       "      <td>99.21</td>\n",
       "      <td>97.87</td>\n",
       "      <td>1.34</td>\n",
       "      <td>0.79</td>\n",
       "      <td>0</td>\n",
       "    </tr>\n",
       "    <tr>\n",
       "      <th>57</th>\n",
       "      <td>Yuba County</td>\n",
       "      <td>Yuba County, California</td>\n",
       "      <td>1636454192</td>\n",
       "      <td>30998568</td>\n",
       "      <td>50</td>\n",
       "      <td>0</td>\n",
       "      <td>4</td>\n",
       "      <td>9</td>\n",
       "      <td>06115</td>\n",
       "      <td>06</td>\n",
       "      <td>...</td>\n",
       "      <td>53234</td>\n",
       "      <td>44548</td>\n",
       "      <td>8686</td>\n",
       "      <td>18921</td>\n",
       "      <td>0</td>\n",
       "      <td>73.78</td>\n",
       "      <td>61.74</td>\n",
       "      <td>12.04</td>\n",
       "      <td>26.22</td>\n",
       "      <td>0</td>\n",
       "    </tr>\n",
       "    <tr>\n",
       "      <th>47</th>\n",
       "      <td>Solano County</td>\n",
       "      <td>Solano County, California</td>\n",
       "      <td>2128361199</td>\n",
       "      <td>218665937</td>\n",
       "      <td>50</td>\n",
       "      <td>0</td>\n",
       "      <td>4</td>\n",
       "      <td>9</td>\n",
       "      <td>06095</td>\n",
       "      <td>06</td>\n",
       "      <td>...</td>\n",
       "      <td>397974</td>\n",
       "      <td>372432</td>\n",
       "      <td>25542</td>\n",
       "      <td>15370</td>\n",
       "      <td>0</td>\n",
       "      <td>96.28</td>\n",
       "      <td>90.10</td>\n",
       "      <td>6.18</td>\n",
       "      <td>3.72</td>\n",
       "      <td>0</td>\n",
       "    </tr>\n",
       "  </tbody>\n",
       "</table>\n",
       "<p>5 rows × 22 columns</p>\n",
       "</div>"
      ],
      "text/plain": [
       "                Geo_NAME                         Geo_QName  Geo_AREALAND  \\\n",
       "41  Santa Barbara County  Santa Barbara County, California    7083838022   \n",
       "28         Nevada County         Nevada County, California    2480616988   \n",
       "6    Contra Costa County   Contra Costa County, California    1854268836   \n",
       "57           Yuba County           Yuba County, California    1636454192   \n",
       "47         Solano County         Solano County, California    2128361199   \n",
       "\n",
       "    Geo_AREAWATR  Geo_SUMLEV  Geo_GEOCOMP  Geo_REGION  Geo_DIVISION Geo_FIPS  \\\n",
       "41    2729829365          50            0           4             9    06083   \n",
       "28      41514942          50            0           4             9    06057   \n",
       "6      227485306          50            0           4             9    06013   \n",
       "57      30998568          50            0           4             9    06115   \n",
       "47     218665937          50            0           4             9    06095   \n",
       "\n",
       "   Geo_STATE  ... SF1_P0020002  SF1_P0020003  SF1_P0020004  SF1_P0020005  \\\n",
       "41        06  ...       402626        377637         24989         21269   \n",
       "28        06  ...        57150             0         57150         41614   \n",
       "6         06  ...      1040709       1026665         14044          8316   \n",
       "57        06  ...        53234         44548          8686         18921   \n",
       "47        06  ...       397974        372432         25542         15370   \n",
       "\n",
       "    SF1_P0020006  PCT_SF1_P0020002  PCT_SF1_P0020003  PCT_SF1_P0020004  \\\n",
       "41             0             94.98             89.09              5.90   \n",
       "28             0             57.87              0.00             57.87   \n",
       "6              0             99.21             97.87              1.34   \n",
       "57             0             73.78             61.74             12.04   \n",
       "47             0             96.28             90.10              6.18   \n",
       "\n",
       "    PCT_SF1_P0020005  PCT_SF1_P0020006  \n",
       "41              5.02                 0  \n",
       "28             42.13                 0  \n",
       "6               0.79                 0  \n",
       "57             26.22                 0  \n",
       "47              3.72                 0  \n",
       "\n",
       "[5 rows x 22 columns]"
      ]
     },
     "execution_count": 5,
     "metadata": {},
     "output_type": "execute_result"
    }
   ],
   "source": [
    "# make sure it worked\n",
    "\n",
    "ur.sample(5)"
   ]
  },
  {
   "cell_type": "code",
   "execution_count": 6,
   "metadata": {
    "scrolled": true
   },
   "outputs": [
    {
     "name": "stdout",
     "output_type": "stream",
     "text": [
      "<class 'pandas.core.frame.DataFrame'>\n",
      "RangeIndex: 58 entries, 0 to 57\n",
      "Data columns (total 22 columns):\n",
      " #   Column            Non-Null Count  Dtype  \n",
      "---  ------            --------------  -----  \n",
      " 0   Geo_NAME          58 non-null     object \n",
      " 1   Geo_QName         58 non-null     object \n",
      " 2   Geo_AREALAND      58 non-null     int64  \n",
      " 3   Geo_AREAWATR      58 non-null     int64  \n",
      " 4   Geo_SUMLEV        58 non-null     int64  \n",
      " 5   Geo_GEOCOMP       58 non-null     int64  \n",
      " 6   Geo_REGION        58 non-null     int64  \n",
      " 7   Geo_DIVISION      58 non-null     int64  \n",
      " 8   Geo_FIPS          58 non-null     object \n",
      " 9   Geo_STATE         58 non-null     object \n",
      " 10  Geo_COUNTY        58 non-null     object \n",
      " 11  SF1_P0020001      58 non-null     int64  \n",
      " 12  SF1_P0020002      58 non-null     int64  \n",
      " 13  SF1_P0020003      58 non-null     int64  \n",
      " 14  SF1_P0020004      58 non-null     int64  \n",
      " 15  SF1_P0020005      58 non-null     int64  \n",
      " 16  SF1_P0020006      58 non-null     int64  \n",
      " 17  PCT_SF1_P0020002  58 non-null     float64\n",
      " 18  PCT_SF1_P0020003  58 non-null     float64\n",
      " 19  PCT_SF1_P0020004  58 non-null     float64\n",
      " 20  PCT_SF1_P0020005  58 non-null     float64\n",
      " 21  PCT_SF1_P0020006  58 non-null     int64  \n",
      "dtypes: float64(4), int64(13), object(5)\n",
      "memory usage: 10.1+ KB\n"
     ]
    }
   ],
   "source": [
    "ur.info()"
   ]
  },
  {
   "cell_type": "code",
   "execution_count": 7,
   "metadata": {},
   "outputs": [],
   "source": [
    "# get rid of unneccessary columns\n",
    "\n",
    "col_to_drop = ['Geo_QName','Geo_AREAWATR','Geo_SUMLEV','Geo_GEOCOMP','Geo_REGION','Geo_STATE']"
   ]
  },
  {
   "cell_type": "code",
   "execution_count": 8,
   "metadata": {},
   "outputs": [],
   "source": [
    "ur =ur.drop(col_to_drop,axis=1)"
   ]
  },
  {
   "cell_type": "code",
   "execution_count": 9,
   "metadata": {},
   "outputs": [
    {
     "data": {
      "text/html": [
       "<div>\n",
       "<style scoped>\n",
       "    .dataframe tbody tr th:only-of-type {\n",
       "        vertical-align: middle;\n",
       "    }\n",
       "\n",
       "    .dataframe tbody tr th {\n",
       "        vertical-align: top;\n",
       "    }\n",
       "\n",
       "    .dataframe thead th {\n",
       "        text-align: right;\n",
       "    }\n",
       "</style>\n",
       "<table border=\"1\" class=\"dataframe\">\n",
       "  <thead>\n",
       "    <tr style=\"text-align: right;\">\n",
       "      <th></th>\n",
       "      <th>Geo_NAME</th>\n",
       "      <th>Geo_AREALAND</th>\n",
       "      <th>Geo_DIVISION</th>\n",
       "      <th>Geo_FIPS</th>\n",
       "      <th>Geo_COUNTY</th>\n",
       "      <th>SF1_P0020001</th>\n",
       "      <th>SF1_P0020002</th>\n",
       "      <th>SF1_P0020003</th>\n",
       "      <th>SF1_P0020004</th>\n",
       "      <th>SF1_P0020005</th>\n",
       "      <th>SF1_P0020006</th>\n",
       "      <th>PCT_SF1_P0020002</th>\n",
       "      <th>PCT_SF1_P0020003</th>\n",
       "      <th>PCT_SF1_P0020004</th>\n",
       "      <th>PCT_SF1_P0020005</th>\n",
       "      <th>PCT_SF1_P0020006</th>\n",
       "    </tr>\n",
       "  </thead>\n",
       "  <tbody>\n",
       "    <tr>\n",
       "      <th>17</th>\n",
       "      <td>Lassen County</td>\n",
       "      <td>11761612172</td>\n",
       "      <td>9</td>\n",
       "      <td>06035</td>\n",
       "      <td>035</td>\n",
       "      <td>34895</td>\n",
       "      <td>10285</td>\n",
       "      <td>0</td>\n",
       "      <td>10285</td>\n",
       "      <td>24610</td>\n",
       "      <td>0</td>\n",
       "      <td>29.47</td>\n",
       "      <td>0.0</td>\n",
       "      <td>29.47</td>\n",
       "      <td>70.53</td>\n",
       "      <td>0</td>\n",
       "    </tr>\n",
       "  </tbody>\n",
       "</table>\n",
       "</div>"
      ],
      "text/plain": [
       "         Geo_NAME  Geo_AREALAND  Geo_DIVISION Geo_FIPS Geo_COUNTY  \\\n",
       "17  Lassen County   11761612172             9    06035        035   \n",
       "\n",
       "    SF1_P0020001  SF1_P0020002  SF1_P0020003  SF1_P0020004  SF1_P0020005  \\\n",
       "17         34895         10285             0         10285         24610   \n",
       "\n",
       "    SF1_P0020006  PCT_SF1_P0020002  PCT_SF1_P0020003  PCT_SF1_P0020004  \\\n",
       "17             0             29.47               0.0             29.47   \n",
       "\n",
       "    PCT_SF1_P0020005  PCT_SF1_P0020006  \n",
       "17             70.53                 0  "
      ]
     },
     "execution_count": 9,
     "metadata": {},
     "output_type": "execute_result"
    }
   ],
   "source": [
    "ur.sample()"
   ]
  },
  {
   "cell_type": "code",
   "execution_count": 10,
   "metadata": {},
   "outputs": [
    {
     "data": {
      "text/plain": [
       "['Geo_NAME',\n",
       " 'Geo_AREALAND',\n",
       " 'Geo_DIVISION',\n",
       " 'Geo_FIPS',\n",
       " 'Geo_COUNTY',\n",
       " 'SF1_P0020001',\n",
       " 'SF1_P0020002',\n",
       " 'SF1_P0020003',\n",
       " 'SF1_P0020004',\n",
       " 'SF1_P0020005',\n",
       " 'SF1_P0020006',\n",
       " 'PCT_SF1_P0020002',\n",
       " 'PCT_SF1_P0020003',\n",
       " 'PCT_SF1_P0020004',\n",
       " 'PCT_SF1_P0020005',\n",
       " 'PCT_SF1_P0020006']"
      ]
     },
     "execution_count": 10,
     "metadata": {},
     "output_type": "execute_result"
    }
   ],
   "source": [
    "# get a list of columns to start renaming process\n",
    "\n",
    "ur.columns.to_list()"
   ]
  },
  {
   "cell_type": "code",
   "execution_count": 11,
   "metadata": {},
   "outputs": [],
   "source": [
    "# copied the list above and renamed in the single quotes\n",
    "\n",
    "ur.columns =['county',\n",
    " 'Geo_AREALAND',\n",
    " 'Geo_DIVISION',\n",
    " 'Geo_FIPS',\n",
    " 'Geo_COUNTY',\n",
    " 'TotalPop',\n",
    " 'TP_Urban',\n",
    " 'TP_UrbanArea',\n",
    " 'TP_UrbanClust',\n",
    " 'TP_Rural',\n",
    " 'TP_NotDef',\n",
    " 'PCT_Urban',\n",
    " 'PCT_UrbanArea',\n",
    " 'PCT_UrbanClust',\n",
    " 'PCT_Rural',\n",
    " 'PCT_NotDef']"
   ]
  },
  {
   "cell_type": "code",
   "execution_count": 12,
   "metadata": {
    "scrolled": true
   },
   "outputs": [
    {
     "data": {
      "text/html": [
       "<div>\n",
       "<style scoped>\n",
       "    .dataframe tbody tr th:only-of-type {\n",
       "        vertical-align: middle;\n",
       "    }\n",
       "\n",
       "    .dataframe tbody tr th {\n",
       "        vertical-align: top;\n",
       "    }\n",
       "\n",
       "    .dataframe thead th {\n",
       "        text-align: right;\n",
       "    }\n",
       "</style>\n",
       "<table border=\"1\" class=\"dataframe\">\n",
       "  <thead>\n",
       "    <tr style=\"text-align: right;\">\n",
       "      <th></th>\n",
       "      <th>county</th>\n",
       "      <th>Geo_AREALAND</th>\n",
       "      <th>Geo_DIVISION</th>\n",
       "      <th>Geo_FIPS</th>\n",
       "      <th>Geo_COUNTY</th>\n",
       "      <th>TotalPop</th>\n",
       "      <th>TP_Urban</th>\n",
       "      <th>TP_UrbanArea</th>\n",
       "      <th>TP_UrbanClust</th>\n",
       "      <th>TP_Rural</th>\n",
       "      <th>TP_NotDef</th>\n",
       "      <th>PCT_Urban</th>\n",
       "      <th>PCT_UrbanArea</th>\n",
       "      <th>PCT_UrbanClust</th>\n",
       "      <th>PCT_Rural</th>\n",
       "      <th>PCT_NotDef</th>\n",
       "    </tr>\n",
       "  </thead>\n",
       "  <tbody>\n",
       "    <tr>\n",
       "      <th>24</th>\n",
       "      <td>Modoc County</td>\n",
       "      <td>10146977156</td>\n",
       "      <td>9</td>\n",
       "      <td>06049</td>\n",
       "      <td>049</td>\n",
       "      <td>9686</td>\n",
       "      <td>2910</td>\n",
       "      <td>0</td>\n",
       "      <td>2910</td>\n",
       "      <td>6776</td>\n",
       "      <td>0</td>\n",
       "      <td>30.04</td>\n",
       "      <td>0.00</td>\n",
       "      <td>30.04</td>\n",
       "      <td>69.96</td>\n",
       "      <td>0</td>\n",
       "    </tr>\n",
       "    <tr>\n",
       "      <th>5</th>\n",
       "      <td>Colusa County</td>\n",
       "      <td>2980379369</td>\n",
       "      <td>9</td>\n",
       "      <td>06011</td>\n",
       "      <td>011</td>\n",
       "      <td>21419</td>\n",
       "      <td>14624</td>\n",
       "      <td>0</td>\n",
       "      <td>14624</td>\n",
       "      <td>6795</td>\n",
       "      <td>0</td>\n",
       "      <td>68.28</td>\n",
       "      <td>0.00</td>\n",
       "      <td>68.28</td>\n",
       "      <td>31.72</td>\n",
       "      <td>0</td>\n",
       "    </tr>\n",
       "    <tr>\n",
       "      <th>19</th>\n",
       "      <td>Madera County</td>\n",
       "      <td>5534982985</td>\n",
       "      <td>9</td>\n",
       "      <td>06039</td>\n",
       "      <td>039</td>\n",
       "      <td>150865</td>\n",
       "      <td>101193</td>\n",
       "      <td>78413</td>\n",
       "      <td>22780</td>\n",
       "      <td>49672</td>\n",
       "      <td>0</td>\n",
       "      <td>67.08</td>\n",
       "      <td>51.98</td>\n",
       "      <td>15.10</td>\n",
       "      <td>32.92</td>\n",
       "      <td>0</td>\n",
       "    </tr>\n",
       "    <tr>\n",
       "      <th>16</th>\n",
       "      <td>Lake County</td>\n",
       "      <td>3254227528</td>\n",
       "      <td>9</td>\n",
       "      <td>06033</td>\n",
       "      <td>033</td>\n",
       "      <td>64665</td>\n",
       "      <td>43257</td>\n",
       "      <td>0</td>\n",
       "      <td>43257</td>\n",
       "      <td>21408</td>\n",
       "      <td>0</td>\n",
       "      <td>66.89</td>\n",
       "      <td>0.00</td>\n",
       "      <td>66.89</td>\n",
       "      <td>33.11</td>\n",
       "      <td>0</td>\n",
       "    </tr>\n",
       "    <tr>\n",
       "      <th>15</th>\n",
       "      <td>Kings County</td>\n",
       "      <td>3598582308</td>\n",
       "      <td>9</td>\n",
       "      <td>06031</td>\n",
       "      <td>031</td>\n",
       "      <td>152982</td>\n",
       "      <td>136381</td>\n",
       "      <td>87941</td>\n",
       "      <td>48440</td>\n",
       "      <td>16601</td>\n",
       "      <td>0</td>\n",
       "      <td>89.15</td>\n",
       "      <td>57.48</td>\n",
       "      <td>31.66</td>\n",
       "      <td>10.85</td>\n",
       "      <td>0</td>\n",
       "    </tr>\n",
       "  </tbody>\n",
       "</table>\n",
       "</div>"
      ],
      "text/plain": [
       "           county  Geo_AREALAND  Geo_DIVISION Geo_FIPS Geo_COUNTY  TotalPop  \\\n",
       "24   Modoc County   10146977156             9    06049        049      9686   \n",
       "5   Colusa County    2980379369             9    06011        011     21419   \n",
       "19  Madera County    5534982985             9    06039        039    150865   \n",
       "16    Lake County    3254227528             9    06033        033     64665   \n",
       "15   Kings County    3598582308             9    06031        031    152982   \n",
       "\n",
       "    TP_Urban  TP_UrbanArea  TP_UrbanClust  TP_Rural  TP_NotDef  PCT_Urban  \\\n",
       "24      2910             0           2910      6776          0      30.04   \n",
       "5      14624             0          14624      6795          0      68.28   \n",
       "19    101193         78413          22780     49672          0      67.08   \n",
       "16     43257             0          43257     21408          0      66.89   \n",
       "15    136381         87941          48440     16601          0      89.15   \n",
       "\n",
       "    PCT_UrbanArea  PCT_UrbanClust  PCT_Rural  PCT_NotDef  \n",
       "24           0.00           30.04      69.96           0  \n",
       "5            0.00           68.28      31.72           0  \n",
       "19          51.98           15.10      32.92           0  \n",
       "16           0.00           66.89      33.11           0  \n",
       "15          57.48           31.66      10.85           0  "
      ]
     },
     "execution_count": 12,
     "metadata": {},
     "output_type": "execute_result"
    }
   ],
   "source": [
    "ur.sample(5)"
   ]
  },
  {
   "cell_type": "code",
   "execution_count": 13,
   "metadata": {
    "scrolled": true
   },
   "outputs": [
    {
     "data": {
      "text/plain": [
       "count     58.000000\n",
       "mean      71.304483\n",
       "std       28.889252\n",
       "min        0.000000\n",
       "25%       55.545000\n",
       "50%       83.960000\n",
       "75%       93.377500\n",
       "max      100.000000\n",
       "Name: PCT_Urban, dtype: float64"
      ]
     },
     "execution_count": 13,
     "metadata": {},
     "output_type": "execute_result"
    }
   ],
   "source": [
    "# general descriptive stats on urban pop\n",
    "\n",
    "ur['PCT_Urban'].describe()"
   ]
  },
  {
   "cell_type": "code",
   "execution_count": 14,
   "metadata": {
    "scrolled": true
   },
   "outputs": [
    {
     "data": {
      "text/plain": [
       "<matplotlib.axes._subplots.AxesSubplot at 0x7f73ceff6e80>"
      ]
     },
     "execution_count": 14,
     "metadata": {},
     "output_type": "execute_result"
    },
    {
     "data": {
      "image/png": "[encoded data removed]",
      "text/plain": [
       "<Figure size 432x288 with 1 Axes>"
      ]
     },
     "metadata": {
      "needs_background": "light"
     },
     "output_type": "display_data"
    }
   ],
   "source": [
    "# plot the urban pop of all counties\n",
    "\n",
    "ur['PCT_Urban'].plot.hist(bins=50)"
   ]
  },
  {
   "cell_type": "code",
   "execution_count": 15,
   "metadata": {},
   "outputs": [
    {
     "data": {
      "text/html": [
       "<div>\n",
       "<style scoped>\n",
       "    .dataframe tbody tr th:only-of-type {\n",
       "        vertical-align: middle;\n",
       "    }\n",
       "\n",
       "    .dataframe tbody tr th {\n",
       "        vertical-align: top;\n",
       "    }\n",
       "\n",
       "    .dataframe thead th {\n",
       "        text-align: right;\n",
       "    }\n",
       "</style>\n",
       "<table border=\"1\" class=\"dataframe\">\n",
       "  <thead>\n",
       "    <tr style=\"text-align: right;\">\n",
       "      <th></th>\n",
       "      <th>county</th>\n",
       "      <th>PCT_Urban</th>\n",
       "    </tr>\n",
       "  </thead>\n",
       "  <tbody>\n",
       "    <tr>\n",
       "      <th>37</th>\n",
       "      <td>San Francisco County</td>\n",
       "      <td>100.00</td>\n",
       "    </tr>\n",
       "    <tr>\n",
       "      <th>29</th>\n",
       "      <td>Orange County</td>\n",
       "      <td>99.86</td>\n",
       "    </tr>\n",
       "    <tr>\n",
       "      <th>0</th>\n",
       "      <td>Alameda County</td>\n",
       "      <td>99.61</td>\n",
       "    </tr>\n",
       "    <tr>\n",
       "      <th>18</th>\n",
       "      <td>Los Angeles County</td>\n",
       "      <td>99.39</td>\n",
       "    </tr>\n",
       "    <tr>\n",
       "      <th>6</th>\n",
       "      <td>Contra Costa County</td>\n",
       "      <td>99.21</td>\n",
       "    </tr>\n",
       "  </tbody>\n",
       "</table>\n",
       "</div>"
      ],
      "text/plain": [
       "                  county  PCT_Urban\n",
       "37  San Francisco County     100.00\n",
       "29         Orange County      99.86\n",
       "0         Alameda County      99.61\n",
       "18    Los Angeles County      99.39\n",
       "6    Contra Costa County      99.21"
      ]
     },
     "execution_count": 15,
     "metadata": {},
     "output_type": "execute_result"
    }
   ],
   "source": [
    "# which are the most urban\n",
    "\n",
    "ur_urban = ur.sort_values(by='PCT_Urban',ascending=False)\n",
    "ur_urban[['county','PCT_Urban']].head(5)"
   ]
  },
  {
   "cell_type": "code",
   "execution_count": 16,
   "metadata": {},
   "outputs": [
    {
     "data": {
      "text/html": [
       "<div>\n",
       "<style scoped>\n",
       "    .dataframe tbody tr th:only-of-type {\n",
       "        vertical-align: middle;\n",
       "    }\n",
       "\n",
       "    .dataframe tbody tr th {\n",
       "        vertical-align: top;\n",
       "    }\n",
       "\n",
       "    .dataframe thead th {\n",
       "        text-align: right;\n",
       "    }\n",
       "</style>\n",
       "<table border=\"1\" class=\"dataframe\">\n",
       "  <thead>\n",
       "    <tr style=\"text-align: right;\">\n",
       "      <th></th>\n",
       "      <th>county</th>\n",
       "      <th>PCT_Rural</th>\n",
       "    </tr>\n",
       "  </thead>\n",
       "  <tbody>\n",
       "    <tr>\n",
       "      <th>52</th>\n",
       "      <td>Trinity County</td>\n",
       "      <td>100.00</td>\n",
       "    </tr>\n",
       "    <tr>\n",
       "      <th>21</th>\n",
       "      <td>Mariposa County</td>\n",
       "      <td>100.00</td>\n",
       "    </tr>\n",
       "    <tr>\n",
       "      <th>1</th>\n",
       "      <td>Alpine County</td>\n",
       "      <td>100.00</td>\n",
       "    </tr>\n",
       "    <tr>\n",
       "      <th>45</th>\n",
       "      <td>Sierra County</td>\n",
       "      <td>99.72</td>\n",
       "    </tr>\n",
       "    <tr>\n",
       "      <th>4</th>\n",
       "      <td>Calaveras County</td>\n",
       "      <td>75.41</td>\n",
       "    </tr>\n",
       "  </tbody>\n",
       "</table>\n",
       "</div>"
      ],
      "text/plain": [
       "              county  PCT_Rural\n",
       "52    Trinity County     100.00\n",
       "21   Mariposa County     100.00\n",
       "1      Alpine County     100.00\n",
       "45     Sierra County      99.72\n",
       "4   Calaveras County      75.41"
      ]
     },
     "execution_count": 16,
     "metadata": {},
     "output_type": "execute_result"
    }
   ],
   "source": [
    "# which are the most rural\n",
    "\n",
    "ur_rural = ur.sort_values(by='PCT_Rural',ascending=False)\n",
    "ur_rural[['county','PCT_Rural']].head(5)"
   ]
  },
  {
   "cell_type": "code",
   "execution_count": null,
   "metadata": {},
   "outputs": [],
   "source": [
    "import geopandas as gpd\n",
    "cbounds = gpd.read"
   ]
  },
  {
   "cell_type": "code",
   "execution_count": 17,
   "metadata": {},
   "outputs": [],
   "source": [
    "import pandas as pd\n",
    "import plotly.express as px "
   ]
  },
  {
   "cell_type": "code",
   "execution_count": 19,
   "metadata": {},
   "outputs": [
    {
     "data": {
      "application/vnd.plotly.v1+json": {
       "config": {
        "plotlyServerURL": "https://plot.ly"
       },
       "data": [
        {
         "alignmentgroup": "True",
         "hovertemplate": "county=%{x}<br>TP_UrbanArea=%{y}<extra></extra>",
         "legendgroup": "",
         "marker": {
          "color": "#636efa"
         },
         "name": "",
         "offsetgroup": "",
         "orientation": "v",
         "showlegend": false,
         "textposition": "auto",
         "type": "bar",
         "x": [
          "Alameda County",
          "Alpine County",
          "Amador County",
          "Butte County",
          "Calaveras County",
          "Colusa County",
          "Contra Costa County",
          "Del Norte County",
          "El Dorado County",
          "Fresno County",
          "Glenn County",
          "Humboldt County",
          "Imperial County",
          "Inyo County",
          "Kern County",
          "Kings County",
          "Lake County",
          "Lassen County",
          "Los Angeles County",
          "Madera County",
          "Marin County",
          "Mariposa County",
          "Mendocino County",
          "Merced County",
          "Modoc County",
          "Mono County",
          "Monterey County",
          "Napa County",
          "Nevada County",
          "Orange County",
          "Placer County",
          "Plumas County",
          "Riverside County",
          "Sacramento County",
          "San Benito County",
          "San Bernardino County",
          "San Diego County",
          "San Francisco County",
          "San Joaquin County",
          "San Luis Obispo County",
          "San Mateo County",
          "Santa Barbara County",
          "Santa Clara County",
          "Santa Cruz County",
          "Shasta County",
          "Sierra County",
          "Siskiyou County",
          "Solano County",
          "Sonoma County",
          "Stanislaus County",
          "Sutter County",
          "Tehama County",
          "Trinity County",
          "Tulare County",
          "Tuolumne County",
          "Ventura County",
          "Yolo County",
          "Yuba County"
         ],
         "xaxis": "x",
         "y": [
          1504402,
          0,
          0,
          98176,
          0,
          0,
          1026665,
          0,
          61422,
          654628,
          0,
          0,
          108683,
          0,
          578366,
          87941,
          0,
          0,
          9743650,
          78413,
          235952,
          0,
          0,
          161757,
          0,
          0,
          306096,
          103379,
          0,
          3005917,
          254704,
          0,
          2022683,
          1359243,
          0,
          1792222,
          2964846,
          805235,
          610468,
          176368,
          684152,
          377637,
          1762335,
          230793,
          117731,
          9,
          0,
          372432,
          372309,
          433288,
          72171,
          0,
          0,
          289726,
          0,
          752770,
          176572,
          44548
         ],
         "yaxis": "y"
        }
       ],
       "layout": {
        "barmode": "relative",
        "legend": {
         "tracegroupgap": 0
        },
        "template": {
         "data": {
          "bar": [
           {
            "error_x": {
             "color": "#2a3f5f"
            },
            "error_y": {
             "color": "#2a3f5f"
            },
            "marker": {
             "line": {
              "color": "#E5ECF6",
              "width": 0.5
             }
            },
            "type": "bar"
           }
          ],
          "barpolar": [
           {
            "marker": {
             "line": {
              "color": "#E5ECF6",
              "width": 0.5
             }
            },
            "type": "barpolar"
           }
          ],
          "carpet": [
           {
            "aaxis": {
             "endlinecolor": "#2a3f5f",
             "gridcolor": "white",
             "linecolor": "white",
             "minorgridcolor": "white",
             "startlinecolor": "#2a3f5f"
            },
            "baxis": {
             "endlinecolor": "#2a3f5f",
             "gridcolor": "white",
             "linecolor": "white",
             "minorgridcolor": "white",
             "startlinecolor": "#2a3f5f"
            },
            "type": "carpet"
           }
          ],
          "choropleth": [
           {
            "colorbar": {
             "outlinewidth": 0,
             "ticks": ""
            },
            "type": "choropleth"
           }
          ],
          "contour": [
           {
            "colorbar": {
             "outlinewidth": 0,
             "ticks": ""
            },
            "colorscale": [
             [
              0,
              "#0d0887"
             ],
             [
              0.1111111111111111,
              "#46039f"
             ],
             [
              0.2222222222222222,
              "#7201a8"
             ],
             [
              0.3333333333333333,
              "#9c179e"
             ],
             [
              0.4444444444444444,
              "#bd3786"
             ],
             [
              0.5555555555555556,
              "#d8576b"
             ],
             [
              0.6666666666666666,
              "#ed7953"
             ],
             [
              0.7777777777777778,
              "#fb9f3a"
             ],
             [
              0.8888888888888888,
              "#fdca26"
             ],
             [
              1,
              "#f0f921"
             ]
            ],
            "type": "contour"
           }
          ],
          "contourcarpet": [
           {
            "colorbar": {
             "outlinewidth": 0,
             "ticks": ""
            },
            "type": "contourcarpet"
           }
          ],
          "heatmap": [
           {
            "colorbar": {
             "outlinewidth": 0,
             "ticks": ""
            },
            "colorscale": [
             [
              0,
              "#0d0887"
             ],
             [
              0.1111111111111111,
              "#46039f"
             ],
             [
              0.2222222222222222,
              "#7201a8"
             ],
             [
              0.3333333333333333,
              "#9c179e"
             ],
             [
              0.4444444444444444,
              "#bd3786"
             ],
             [
              0.5555555555555556,
              "#d8576b"
             ],
             [
              0.6666666666666666,
              "#ed7953"
             ],
             [
              0.7777777777777778,
              "#fb9f3a"
             ],
             [
              0.8888888888888888,
              "#fdca26"
             ],
             [
              1,
              "#f0f921"
             ]
            ],
            "type": "heatmap"
           }
          ],
          "heatmapgl": [
           {
            "colorbar": {
             "outlinewidth": 0,
             "ticks": ""
            },
            "colorscale": [
             [
              0,
              "#0d0887"
             ],
             [
              0.1111111111111111,
              "#46039f"
             ],
             [
              0.2222222222222222,
              "#7201a8"
             ],
             [
              0.3333333333333333,
              "#9c179e"
             ],
             [
              0.4444444444444444,
              "#bd3786"
             ],
             [
              0.5555555555555556,
              "#d8576b"
             ],
             [
              0.6666666666666666,
              "#ed7953"
             ],
             [
              0.7777777777777778,
              "#fb9f3a"
             ],
             [
              0.8888888888888888,
              "#fdca26"
             ],
             [
              1,
              "#f0f921"
             ]
            ],
            "type": "heatmapgl"
           }
          ],
          "histogram": [
           {
            "marker": {
             "colorbar": {
              "outlinewidth": 0,
              "ticks": ""
             }
            },
            "type": "histogram"
           }
          ],
          "histogram2d": [
           {
            "colorbar": {
             "outlinewidth": 0,
             "ticks": ""
            },
            "colorscale": [
             [
              0,
              "#0d0887"
             ],
             [
              0.1111111111111111,
              "#46039f"
             ],
             [
              0.2222222222222222,
              "#7201a8"
             ],
             [
              0.3333333333333333,
              "#9c179e"
             ],
             [
              0.4444444444444444,
              "#bd3786"
             ],
             [
              0.5555555555555556,
              "#d8576b"
             ],
             [
              0.6666666666666666,
              "#ed7953"
             ],
             [
              0.7777777777777778,
              "#fb9f3a"
             ],
             [
              0.8888888888888888,
              "#fdca26"
             ],
             [
              1,
              "#f0f921"
             ]
            ],
            "type": "histogram2d"
           }
          ],
          "histogram2dcontour": [
           {
            "colorbar": {
             "outlinewidth": 0,
             "ticks": ""
            },
            "colorscale": [
             [
              0,
              "#0d0887"
             ],
             [
              0.1111111111111111,
              "#46039f"
             ],
             [
              0.2222222222222222,
              "#7201a8"
             ],
             [
              0.3333333333333333,
              "#9c179e"
             ],
             [
              0.4444444444444444,
              "#bd3786"
             ],
             [
              0.5555555555555556,
              "#d8576b"
             ],
             [
              0.6666666666666666,
              "#ed7953"
             ],
             [
              0.7777777777777778,
              "#fb9f3a"
             ],
             [
              0.8888888888888888,
              "#fdca26"
             ],
             [
              1,
              "#f0f921"
             ]
            ],
            "type": "histogram2dcontour"
           }
          ],
          "mesh3d": [
           {
            "colorbar": {
             "outlinewidth": 0,
             "ticks": ""
            },
            "type": "mesh3d"
           }
          ],
          "parcoords": [
           {
            "line": {
             "colorbar": {
              "outlinewidth": 0,
              "ticks": ""
             }
            },
            "type": "parcoords"
           }
          ],
          "pie": [
           {
            "automargin": true,
            "type": "pie"
           }
          ],
          "scatter": [
           {
            "marker": {
             "colorbar": {
              "outlinewidth": 0,
              "ticks": ""
             }
            },
            "type": "scatter"
           }
          ],
          "scatter3d": [
           {
            "line": {
             "colorbar": {
              "outlinewidth": 0,
              "ticks": ""
             }
            },
            "marker": {
             "colorbar": {
              "outlinewidth": 0,
              "ticks": ""
             }
            },
            "type": "scatter3d"
           }
          ],
          "scattercarpet": [
           {
            "marker": {
             "colorbar": {
              "outlinewidth": 0,
              "ticks": ""
             }
            },
            "type": "scattercarpet"
           }
          ],
          "scattergeo": [
           {
            "marker": {
             "colorbar": {
              "outlinewidth": 0,
              "ticks": ""
             }
            },
            "type": "scattergeo"
           }
          ],
          "scattergl": [
           {
            "marker": {
             "colorbar": {
              "outlinewidth": 0,
              "ticks": ""
             }
            },
            "type": "scattergl"
           }
          ],
          "scattermapbox": [
           {
            "marker": {
             "colorbar": {
              "outlinewidth": 0,
              "ticks": ""
             }
            },
            "type": "scattermapbox"
           }
          ],
          "scatterpolar": [
           {
            "marker": {
             "colorbar": {
              "outlinewidth": 0,
              "ticks": ""
             }
            },
            "type": "scatterpolar"
           }
          ],
          "scatterpolargl": [
           {
            "marker": {
             "colorbar": {
              "outlinewidth": 0,
              "ticks": ""
             }
            },
            "type": "scatterpolargl"
           }
          ],
          "scatterternary": [
           {
            "marker": {
             "colorbar": {
              "outlinewidth": 0,
              "ticks": ""
             }
            },
            "type": "scatterternary"
           }
          ],
          "surface": [
           {
            "colorbar": {
             "outlinewidth": 0,
             "ticks": ""
            },
            "colorscale": [
             [
              0,
              "#0d0887"
             ],
             [
              0.1111111111111111,
              "#46039f"
             ],
             [
              0.2222222222222222,
              "#7201a8"
             ],
             [
              0.3333333333333333,
              "#9c179e"
             ],
             [
              0.4444444444444444,
              "#bd3786"
             ],
             [
              0.5555555555555556,
              "#d8576b"
             ],
             [
              0.6666666666666666,
              "#ed7953"
             ],
             [
              0.7777777777777778,
              "#fb9f3a"
             ],
             [
              0.8888888888888888,
              "#fdca26"
             ],
             [
              1,
              "#f0f921"
             ]
            ],
            "type": "surface"
           }
          ],
          "table": [
           {
            "cells": {
             "fill": {
              "color": "#EBF0F8"
             },
             "line": {
              "color": "white"
             }
            },
            "header": {
             "fill": {
              "color": "#C8D4E3"
             },
             "line": {
              "color": "white"
             }
            },
            "type": "table"
           }
          ]
         },
         "layout": {
          "annotationdefaults": {
           "arrowcolor": "#2a3f5f",
           "arrowhead": 0,
           "arrowwidth": 1
          },
          "coloraxis": {
           "colorbar": {
            "outlinewidth": 0,
            "ticks": ""
           }
          },
          "colorscale": {
           "diverging": [
            [
             0,
             "#8e0152"
            ],
            [
             0.1,
             "#c51b7d"
            ],
            [
             0.2,
             "#de77ae"
            ],
            [
             0.3,
             "#f1b6da"
            ],
            [
             0.4,
             "#fde0ef"
            ],
            [
             0.5,
             "#f7f7f7"
            ],
            [
             0.6,
             "#e6f5d0"
            ],
            [
             0.7,
             "#b8e186"
            ],
            [
             0.8,
             "#7fbc41"
            ],
            [
             0.9,
             "#4d9221"
            ],
            [
             1,
             "#276419"
            ]
           ],
           "sequential": [
            [
             0,
             "#0d0887"
            ],
            [
             0.1111111111111111,
             "#46039f"
            ],
            [
             0.2222222222222222,
             "#7201a8"
            ],
            [
             0.3333333333333333,
             "#9c179e"
            ],
            [
             0.4444444444444444,
             "#bd3786"
            ],
            [
             0.5555555555555556,
             "#d8576b"
            ],
            [
             0.6666666666666666,
             "#ed7953"
            ],
            [
             0.7777777777777778,
             "#fb9f3a"
            ],
            [
             0.8888888888888888,
             "#fdca26"
            ],
            [
             1,
             "#f0f921"
            ]
           ],
           "sequentialminus": [
            [
             0,
             "#0d0887"
            ],
            [
             0.1111111111111111,
             "#46039f"
            ],
            [
             0.2222222222222222,
             "#7201a8"
            ],
            [
             0.3333333333333333,
             "#9c179e"
            ],
            [
             0.4444444444444444,
             "#bd3786"
            ],
            [
             0.5555555555555556,
             "#d8576b"
            ],
            [
             0.6666666666666666,
             "#ed7953"
            ],
            [
             0.7777777777777778,
             "#fb9f3a"
            ],
            [
             0.8888888888888888,
             "#fdca26"
            ],
            [
             1,
             "#f0f921"
            ]
           ]
          },
          "colorway": [
           "#636efa",
           "#EF553B",
           "#00cc96",
           "#ab63fa",
           "#FFA15A",
           "#19d3f3",
           "#FF6692",
           "#B6E880",
           "#FF97FF",
           "#FECB52"
          ],
          "font": {
           "color": "#2a3f5f"
          },
          "geo": {
           "bgcolor": "white",
           "lakecolor": "white",
           "landcolor": "#E5ECF6",
           "showlakes": true,
           "showland": true,
           "subunitcolor": "white"
          },
          "hoverlabel": {
           "align": "left"
          },
          "hovermode": "closest",
          "mapbox": {
           "style": "light"
          },
          "paper_bgcolor": "white",
          "plot_bgcolor": "#E5ECF6",
          "polar": {
           "angularaxis": {
            "gridcolor": "white",
            "linecolor": "white",
            "ticks": ""
           },
           "bgcolor": "#E5ECF6",
           "radialaxis": {
            "gridcolor": "white",
            "linecolor": "white",
            "ticks": ""
           }
          },
          "scene": {
           "xaxis": {
            "backgroundcolor": "#E5ECF6",
            "gridcolor": "white",
            "gridwidth": 2,
            "linecolor": "white",
            "showbackground": true,
            "ticks": "",
            "zerolinecolor": "white"
           },
           "yaxis": {
            "backgroundcolor": "#E5ECF6",
            "gridcolor": "white",
            "gridwidth": 2,
            "linecolor": "white",
            "showbackground": true,
            "ticks": "",
            "zerolinecolor": "white"
           },
           "zaxis": {
            "backgroundcolor": "#E5ECF6",
            "gridcolor": "white",
            "gridwidth": 2,
            "linecolor": "white",
            "showbackground": true,
            "ticks": "",
            "zerolinecolor": "white"
           }
          },
          "shapedefaults": {
           "line": {
            "color": "#2a3f5f"
           }
          },
          "ternary": {
           "aaxis": {
            "gridcolor": "white",
            "linecolor": "white",
            "ticks": ""
           },
           "baxis": {
            "gridcolor": "white",
            "linecolor": "white",
            "ticks": ""
           },
           "bgcolor": "#E5ECF6",
           "caxis": {
            "gridcolor": "white",
            "linecolor": "white",
            "ticks": ""
           }
          },
          "title": {
           "x": 0.05
          },
          "xaxis": {
           "automargin": true,
           "gridcolor": "white",
           "linecolor": "white",
           "ticks": "",
           "title": {
            "standoff": 15
           },
           "zerolinecolor": "white",
           "zerolinewidth": 2
          },
          "yaxis": {
           "automargin": true,
           "gridcolor": "white",
           "linecolor": "white",
           "ticks": "",
           "title": {
            "standoff": 15
           },
           "zerolinecolor": "white",
           "zerolinewidth": 2
          }
         }
        },
        "title": {
         "text": "County percentage of urban population"
        },
        "xaxis": {
         "anchor": "y",
         "domain": [
          0,
          1
         ],
         "title": {
          "text": "county"
         }
        },
        "yaxis": {
         "anchor": "x",
         "domain": [
          0,
          1
         ],
         "title": {
          "text": "TP_UrbanArea"
         }
        }
       }
      },
      "text/html": [
       "<div>                            <div id=\"b027d51b-c61a-488d-a021-12f9376c121c\" class=\"plotly-graph-div\" style=\"height:525px; width:100%;\"></div>            <script type=\"text/javascript\">                require([\"plotly\"], function(Plotly) {                    window.PLOTLYENV=window.PLOTLYENV || {};                                    if (document.getElementById(\"b027d51b-c61a-488d-a021-12f9376c121c\")) {                    Plotly.newPlot(                        \"b027d51b-c61a-488d-a021-12f9376c121c\",                        [{\"alignmentgroup\": \"True\", \"hovertemplate\": \"county=%{x}<br>TP_UrbanArea=%{y}<extra></extra>\", \"legendgroup\": \"\", \"marker\": {\"color\": \"#636efa\"}, \"name\": \"\", \"offsetgroup\": \"\", \"orientation\": \"v\", \"showlegend\": false, \"textposition\": \"auto\", \"type\": \"bar\", \"x\": [\"Alameda County\", \"Alpine County\", \"Amador County\", \"Butte County\", \"Calaveras County\", \"Colusa County\", \"Contra Costa County\", \"Del Norte County\", \"El Dorado County\", \"Fresno County\", \"Glenn County\", \"Humboldt County\", \"Imperial County\", \"Inyo County\", \"Kern County\", \"Kings County\", \"Lake County\", \"Lassen County\", \"Los Angeles County\", \"Madera County\", \"Marin County\", \"Mariposa County\", \"Mendocino County\", \"Merced County\", \"Modoc County\", \"Mono County\", \"Monterey County\", \"Napa County\", \"Nevada County\", \"Orange County\", \"Placer County\", \"Plumas County\", \"Riverside County\", \"Sacramento County\", \"San Benito County\", \"San Bernardino County\", \"San Diego County\", \"San Francisco County\", \"San Joaquin County\", \"San Luis Obispo County\", \"San Mateo County\", \"Santa Barbara County\", \"Santa Clara County\", \"Santa Cruz County\", \"Shasta County\", \"Sierra County\", \"Siskiyou County\", \"Solano County\", \"Sonoma County\", \"Stanislaus County\", \"Sutter County\", \"Tehama County\", \"Trinity County\", \"Tulare County\", \"Tuolumne County\", \"Ventura County\", \"Yolo County\", \"Yuba County\"], \"xaxis\": \"x\", \"y\": [1504402, 0, 0, 98176, 0, 0, 1026665, 0, 61422, 654628, 0, 0, 108683, 0, 578366, 87941, 0, 0, 9743650, 78413, 235952, 0, 0, 161757, 0, 0, 306096, 103379, 0, 3005917, 254704, 0, 2022683, 1359243, 0, 1792222, 2964846, 805235, 610468, 176368, 684152, 377637, 1762335, 230793, 117731, 9, 0, 372432, 372309, 433288, 72171, 0, 0, 289726, 0, 752770, 176572, 44548], \"yaxis\": \"y\"}],                        {\"barmode\": \"relative\", \"legend\": {\"tracegroupgap\": 0}, \"template\": {\"data\": {\"bar\": [{\"error_x\": {\"color\": \"#2a3f5f\"}, \"error_y\": {\"color\": \"#2a3f5f\"}, \"marker\": {\"line\": {\"color\": \"#E5ECF6\", \"width\": 0.5}}, \"type\": \"bar\"}], \"barpolar\": [{\"marker\": {\"line\": {\"color\": \"#E5ECF6\", \"width\": 0.5}}, \"type\": \"barpolar\"}], \"carpet\": [{\"aaxis\": {\"endlinecolor\": \"#2a3f5f\", \"gridcolor\": \"white\", \"linecolor\": \"white\", \"minorgridcolor\": \"white\", \"startlinecolor\": \"#2a3f5f\"}, \"baxis\": {\"endlinecolor\": \"#2a3f5f\", \"gridcolor\": \"white\", \"linecolor\": \"white\", \"minorgridcolor\": \"white\", \"startlinecolor\": \"#2a3f5f\"}, \"type\": \"carpet\"}], \"choropleth\": [{\"colorbar\": {\"outlinewidth\": 0, \"ticks\": \"\"}, \"type\": \"choropleth\"}], \"contour\": [{\"colorbar\": {\"outlinewidth\": 0, \"ticks\": \"\"}, \"colorscale\": [[0.0, \"#0d0887\"], [0.1111111111111111, \"#46039f\"], [0.2222222222222222, \"#7201a8\"], [0.3333333333333333, \"#9c179e\"], [0.4444444444444444, \"#bd3786\"], [0.5555555555555556, \"#d8576b\"], [0.6666666666666666, \"#ed7953\"], [0.7777777777777778, \"#fb9f3a\"], [0.8888888888888888, \"#fdca26\"], [1.0, \"#f0f921\"]], \"type\": \"contour\"}], \"contourcarpet\": [{\"colorbar\": {\"outlinewidth\": 0, \"ticks\": \"\"}, \"type\": \"contourcarpet\"}], \"heatmap\": [{\"colorbar\": {\"outlinewidth\": 0, \"ticks\": \"\"}, \"colorscale\": [[0.0, \"#0d0887\"], [0.1111111111111111, \"#46039f\"], [0.2222222222222222, \"#7201a8\"], [0.3333333333333333, \"#9c179e\"], [0.4444444444444444, \"#bd3786\"], [0.5555555555555556, \"#d8576b\"], [0.6666666666666666, \"#ed7953\"], [0.7777777777777778, \"#fb9f3a\"], [0.8888888888888888, \"#fdca26\"], [1.0, \"#f0f921\"]], \"type\": \"heatmap\"}], \"heatmapgl\": [{\"colorbar\": {\"outlinewidth\": 0, \"ticks\": \"\"}, \"colorscale\": [[0.0, \"#0d0887\"], [0.1111111111111111, \"#46039f\"], [0.2222222222222222, \"#7201a8\"], [0.3333333333333333, \"#9c179e\"], [0.4444444444444444, \"#bd3786\"], [0.5555555555555556, \"#d8576b\"], [0.6666666666666666, \"#ed7953\"], [0.7777777777777778, \"#fb9f3a\"], [0.8888888888888888, \"#fdca26\"], [1.0, \"#f0f921\"]], \"type\": \"heatmapgl\"}], \"histogram\": [{\"marker\": {\"colorbar\": {\"outlinewidth\": 0, \"ticks\": \"\"}}, \"type\": \"histogram\"}], \"histogram2d\": [{\"colorbar\": {\"outlinewidth\": 0, \"ticks\": \"\"}, \"colorscale\": [[0.0, \"#0d0887\"], [0.1111111111111111, \"#46039f\"], [0.2222222222222222, \"#7201a8\"], [0.3333333333333333, \"#9c179e\"], [0.4444444444444444, \"#bd3786\"], [0.5555555555555556, \"#d8576b\"], [0.6666666666666666, \"#ed7953\"], [0.7777777777777778, \"#fb9f3a\"], [0.8888888888888888, \"#fdca26\"], [1.0, \"#f0f921\"]], \"type\": \"histogram2d\"}], \"histogram2dcontour\": [{\"colorbar\": {\"outlinewidth\": 0, \"ticks\": \"\"}, \"colorscale\": [[0.0, \"#0d0887\"], [0.1111111111111111, \"#46039f\"], [0.2222222222222222, \"#7201a8\"], [0.3333333333333333, \"#9c179e\"], [0.4444444444444444, \"#bd3786\"], [0.5555555555555556, \"#d8576b\"], [0.6666666666666666, \"#ed7953\"], [0.7777777777777778, \"#fb9f3a\"], [0.8888888888888888, \"#fdca26\"], [1.0, \"#f0f921\"]], \"type\": \"histogram2dcontour\"}], \"mesh3d\": [{\"colorbar\": {\"outlinewidth\": 0, \"ticks\": \"\"}, \"type\": \"mesh3d\"}], \"parcoords\": [{\"line\": {\"colorbar\": {\"outlinewidth\": 0, \"ticks\": \"\"}}, \"type\": \"parcoords\"}], \"pie\": [{\"automargin\": true, \"type\": \"pie\"}], \"scatter\": [{\"marker\": {\"colorbar\": {\"outlinewidth\": 0, \"ticks\": \"\"}}, \"type\": \"scatter\"}], \"scatter3d\": [{\"line\": {\"colorbar\": {\"outlinewidth\": 0, \"ticks\": \"\"}}, \"marker\": {\"colorbar\": {\"outlinewidth\": 0, \"ticks\": \"\"}}, \"type\": \"scatter3d\"}], \"scattercarpet\": [{\"marker\": {\"colorbar\": {\"outlinewidth\": 0, \"ticks\": \"\"}}, \"type\": \"scattercarpet\"}], \"scattergeo\": [{\"marker\": {\"colorbar\": {\"outlinewidth\": 0, \"ticks\": \"\"}}, \"type\": \"scattergeo\"}], \"scattergl\": [{\"marker\": {\"colorbar\": {\"outlinewidth\": 0, \"ticks\": \"\"}}, \"type\": \"scattergl\"}], \"scattermapbox\": [{\"marker\": {\"colorbar\": {\"outlinewidth\": 0, \"ticks\": \"\"}}, \"type\": \"scattermapbox\"}], \"scatterpolar\": [{\"marker\": {\"colorbar\": {\"outlinewidth\": 0, \"ticks\": \"\"}}, \"type\": \"scatterpolar\"}], \"scatterpolargl\": [{\"marker\": {\"colorbar\": {\"outlinewidth\": 0, \"ticks\": \"\"}}, \"type\": \"scatterpolargl\"}], \"scatterternary\": [{\"marker\": {\"colorbar\": {\"outlinewidth\": 0, \"ticks\": \"\"}}, \"type\": \"scatterternary\"}], \"surface\": [{\"colorbar\": {\"outlinewidth\": 0, \"ticks\": \"\"}, \"colorscale\": [[0.0, \"#0d0887\"], [0.1111111111111111, \"#46039f\"], [0.2222222222222222, \"#7201a8\"], [0.3333333333333333, \"#9c179e\"], [0.4444444444444444, \"#bd3786\"], [0.5555555555555556, \"#d8576b\"], [0.6666666666666666, \"#ed7953\"], [0.7777777777777778, \"#fb9f3a\"], [0.8888888888888888, \"#fdca26\"], [1.0, \"#f0f921\"]], \"type\": \"surface\"}], \"table\": [{\"cells\": {\"fill\": {\"color\": \"#EBF0F8\"}, \"line\": {\"color\": \"white\"}}, \"header\": {\"fill\": {\"color\": \"#C8D4E3\"}, \"line\": {\"color\": \"white\"}}, \"type\": \"table\"}]}, \"layout\": {\"annotationdefaults\": {\"arrowcolor\": \"#2a3f5f\", \"arrowhead\": 0, \"arrowwidth\": 1}, \"coloraxis\": {\"colorbar\": {\"outlinewidth\": 0, \"ticks\": \"\"}}, \"colorscale\": {\"diverging\": [[0, \"#8e0152\"], [0.1, \"#c51b7d\"], [0.2, \"#de77ae\"], [0.3, \"#f1b6da\"], [0.4, \"#fde0ef\"], [0.5, \"#f7f7f7\"], [0.6, \"#e6f5d0\"], [0.7, \"#b8e186\"], [0.8, \"#7fbc41\"], [0.9, \"#4d9221\"], [1, \"#276419\"]], \"sequential\": [[0.0, \"#0d0887\"], [0.1111111111111111, \"#46039f\"], [0.2222222222222222, \"#7201a8\"], [0.3333333333333333, \"#9c179e\"], [0.4444444444444444, \"#bd3786\"], [0.5555555555555556, \"#d8576b\"], [0.6666666666666666, \"#ed7953\"], [0.7777777777777778, \"#fb9f3a\"], [0.8888888888888888, \"#fdca26\"], [1.0, \"#f0f921\"]], \"sequentialminus\": [[0.0, \"#0d0887\"], [0.1111111111111111, \"#46039f\"], [0.2222222222222222, \"#7201a8\"], [0.3333333333333333, \"#9c179e\"], [0.4444444444444444, \"#bd3786\"], [0.5555555555555556, \"#d8576b\"], [0.6666666666666666, \"#ed7953\"], [0.7777777777777778, \"#fb9f3a\"], [0.8888888888888888, \"#fdca26\"], [1.0, \"#f0f921\"]]}, \"colorway\": [\"#636efa\", \"#EF553B\", \"#00cc96\", \"#ab63fa\", \"#FFA15A\", \"#19d3f3\", \"#FF6692\", \"#B6E880\", \"#FF97FF\", \"#FECB52\"], \"font\": {\"color\": \"#2a3f5f\"}, \"geo\": {\"bgcolor\": \"white\", \"lakecolor\": \"white\", \"landcolor\": \"#E5ECF6\", \"showlakes\": true, \"showland\": true, \"subunitcolor\": \"white\"}, \"hoverlabel\": {\"align\": \"left\"}, \"hovermode\": \"closest\", \"mapbox\": {\"style\": \"light\"}, \"paper_bgcolor\": \"white\", \"plot_bgcolor\": \"#E5ECF6\", \"polar\": {\"angularaxis\": {\"gridcolor\": \"white\", \"linecolor\": \"white\", \"ticks\": \"\"}, \"bgcolor\": \"#E5ECF6\", \"radialaxis\": {\"gridcolor\": \"white\", \"linecolor\": \"white\", \"ticks\": \"\"}}, \"scene\": {\"xaxis\": {\"backgroundcolor\": \"#E5ECF6\", \"gridcolor\": \"white\", \"gridwidth\": 2, \"linecolor\": \"white\", \"showbackground\": true, \"ticks\": \"\", \"zerolinecolor\": \"white\"}, \"yaxis\": {\"backgroundcolor\": \"#E5ECF6\", \"gridcolor\": \"white\", \"gridwidth\": 2, \"linecolor\": \"white\", \"showbackground\": true, \"ticks\": \"\", \"zerolinecolor\": \"white\"}, \"zaxis\": {\"backgroundcolor\": \"#E5ECF6\", \"gridcolor\": \"white\", \"gridwidth\": 2, \"linecolor\": \"white\", \"showbackground\": true, \"ticks\": \"\", \"zerolinecolor\": \"white\"}}, \"shapedefaults\": {\"line\": {\"color\": \"#2a3f5f\"}}, \"ternary\": {\"aaxis\": {\"gridcolor\": \"white\", \"linecolor\": \"white\", \"ticks\": \"\"}, \"baxis\": {\"gridcolor\": \"white\", \"linecolor\": \"white\", \"ticks\": \"\"}, \"bgcolor\": \"#E5ECF6\", \"caxis\": {\"gridcolor\": \"white\", \"linecolor\": \"white\", \"ticks\": \"\"}}, \"title\": {\"x\": 0.05}, \"xaxis\": {\"automargin\": true, \"gridcolor\": \"white\", \"linecolor\": \"white\", \"ticks\": \"\", \"title\": {\"standoff\": 15}, \"zerolinecolor\": \"white\", \"zerolinewidth\": 2}, \"yaxis\": {\"automargin\": true, \"gridcolor\": \"white\", \"linecolor\": \"white\", \"ticks\": \"\", \"title\": {\"standoff\": 15}, \"zerolinecolor\": \"white\", \"zerolinewidth\": 2}}}, \"title\": {\"text\": \"County percentage of urban population\"}, \"xaxis\": {\"anchor\": \"y\", \"domain\": [0.0, 1.0], \"title\": {\"text\": \"county\"}}, \"yaxis\": {\"anchor\": \"x\", \"domain\": [0.0, 1.0], \"title\": {\"text\": \"TP_UrbanArea\"}}},                        {\"responsive\": true}                    ).then(function(){\n",
       "                            \n",
       "var gd = document.getElementById('b027d51b-c61a-488d-a021-12f9376c121c');\n",
       "var x = new MutationObserver(function (mutations, observer) {{\n",
       "        var display = window.getComputedStyle(gd).display;\n",
       "        if (!display || display === 'none') {{\n",
       "            console.log([gd, 'removed!']);\n",
       "            Plotly.purge(gd);\n",
       "            observer.disconnect();\n",
       "        }}\n",
       "}});\n",
       "\n",
       "// Listen for the removal of the full notebook cells\n",
       "var notebookContainer = gd.closest('#notebook-container');\n",
       "if (notebookContainer) {{\n",
       "    x.observe(notebookContainer, {childList: true});\n",
       "}}\n",
       "\n",
       "// Listen for the clearing of the current output cell\n",
       "var outputEl = gd.closest('.output');\n",
       "if (outputEl) {{\n",
       "    x.observe(outputEl, {childList: true});\n",
       "}}\n",
       "\n",
       "                        })                };                });            </script>        </div>"
      ]
     },
     "metadata": {},
     "output_type": "display_data"
    }
   ],
   "source": [
    "# make some nicer bar charts\n",
    "\n",
    "px.bar(ur,\n",
    "      x='county',\n",
    "      y='TP_UrbanArea',\n",
    "      title='County percentage of urban population')"
   ]
  },
  {
   "cell_type": "markdown",
   "metadata": {},
   "source": [
    "this is a bad graph. later i would like to make a stacked bar chart that shows all three classifications (urban area, urban cluster, and rural) as a stacked bar chart"
   ]
  },
  {
   "cell_type": "code",
   "execution_count": null,
   "metadata": {},
   "outputs": [],
   "source": []
  }
 ],
 "metadata": {
  "kernelspec": {
   "display_name": "Python 3",
   "language": "python",
   "name": "python3"
  },
  "language_info": {
   "codemirror_mode": {
    "name": "ipython",
    "version": 3
   },
   "file_extension": ".py",
   "mimetype": "text/x-python",
   "name": "python",
   "nbconvert_exporter": "python",
   "pygments_lexer": "ipython3",
   "version": "3.8.5"
  },
  "toc": {
   "base_numbering": 1,
   "nav_menu": {},
   "number_sections": true,
   "sideBar": true,
   "skip_h1_title": false,
   "title_cell": "Table of Contents",
   "title_sidebar": "Contents",
   "toc_cell": false,
   "toc_position": {},
   "toc_section_display": true,
   "toc_window_display": false
  }
 },
 "nbformat": 4,
 "nbformat_minor": 4
}
